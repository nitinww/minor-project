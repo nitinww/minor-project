{
 "cells": [
  {
   "cell_type": "code",
   "execution_count": 1,
   "id": "21838759-94be-4a2f-860b-7ceb791e6b04",
   "metadata": {},
   "outputs": [],
   "source": [
    "import pandas as pd"
   ]
  },
  {
   "cell_type": "code",
   "execution_count": 2,
   "id": "637e2f19-8aa0-4924-a5c5-c84aff673caf",
   "metadata": {},
   "outputs": [],
   "source": [
    "companies = pd.read_csv(\"companies.csv\")"
   ]
  },
  {
   "cell_type": "code",
   "execution_count": 3,
   "id": "5c7fe2f6-7561-4d98-bd9e-334405839016",
   "metadata": {},
   "outputs": [],
   "source": [
    "tickers = companies.iloc[:, 0].tolist()\n",
    "urls = companies.iloc[:, 1].tolist()"
   ]
  },
  {
   "cell_type": "code",
   "execution_count": 10,
   "id": "56c0f84d-4b6e-4b3e-926a-ec7e6388d884",
   "metadata": {
    "scrolled": true
   },
   "outputs": [
    {
     "name": "stdout",
     "output_type": "stream",
     "text": [
      "CSV file created for WIPRO\n",
      "CSV file created for TCS\n",
      "CSV file created for HCLTECH\n"
     ]
    }
   ],
   "source": [
    "for i in range(len(tickers)):\n",
    "    if (tickers[i] == \"INFY\"):\n",
    "        continue\n",
    "    data = pd.DataFrame()\n",
    "    for j in range(5, 0, -1):\n",
    "        url = \"https://www.moneycontrol.com/financials//results/ratiosVI/\" + urls[i] + \"/\" + str(j)\n",
    "        try:\n",
    "            df = pd.read_html(url)[0]\n",
    "            df = df.iloc[:, :-1]\n",
    "            df.columns = df.iloc[0]\n",
    "            df = df.reset_index(drop=True)\n",
    "            df.columns.values[0] = None\n",
    "            df.set_index(df.columns[0], inplace=True)\n",
    "            df = df.iloc[:, ::-1]\n",
    "            data = pd.concat([data, df], axis=1)\n",
    "        except Exception as e:\n",
    "            print(f\"Error processing data for {tickers[i]} at URL {url}: {e}\")\n",
    "\n",
    "    if not data.empty:\n",
    "        # data = data.T\n",
    "        path = \"../datasets/ratios/\" + tickers[i] + \"-ratios.csv\"\n",
    "        data.to_csv(path)\n",
    "        print(f\"CSV file created for {tickers[i]}\")\n",
    "    else:\n",
    "        print(f\"No data available for {tickers[i]}\")\n"
   ]
  },
  {
   "cell_type": "code",
   "execution_count": null,
   "id": "0ce90f8b-d6be-44d4-b454-f79ca1756a18",
   "metadata": {},
   "outputs": [],
   "source": []
  }
 ],
 "metadata": {
  "kernelspec": {
   "display_name": "Python 3 (ipykernel)",
   "language": "python",
   "name": "python3"
  },
  "language_info": {
   "codemirror_mode": {
    "name": "ipython",
    "version": 3
   },
   "file_extension": ".py",
   "mimetype": "text/x-python",
   "name": "python",
   "nbconvert_exporter": "python",
   "pygments_lexer": "ipython3",
   "version": "3.8.10"
  }
 },
 "nbformat": 4,
 "nbformat_minor": 5
}
