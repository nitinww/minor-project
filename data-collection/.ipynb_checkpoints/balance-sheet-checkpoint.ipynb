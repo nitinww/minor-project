{
 "cells": [
  {
   "cell_type": "code",
   "execution_count": 1,
   "id": "21838759-94be-4a2f-860b-7ceb791e6b04",
   "metadata": {},
   "outputs": [],
   "source": [
    "import pandas as pd"
   ]
  },
  {
   "cell_type": "code",
   "execution_count": 10,
   "id": "be257ed8-5ce4-48b3-bd5f-f6673c4a6166",
   "metadata": {},
   "outputs": [],
   "source": [
    "companies = pd.read_csv(\"companies.csv\")"
   ]
  },
  {
   "cell_type": "code",
   "execution_count": 11,
   "id": "775f90c5-f02a-48cb-aff1-d489aabc7649",
   "metadata": {},
   "outputs": [],
   "source": [
    "tickers = companies.iloc[:, 0].tolist()\n",
    "urls = companies.iloc[:, 1].tolist()"
   ]
  },
  {
   "cell_type": "code",
   "execution_count": 12,
   "id": "56c0f84d-4b6e-4b3e-926a-ec7e6388d884",
   "metadata": {
    "scrolled": true
   },
   "outputs": [
    {
     "name": "stdout",
     "output_type": "stream",
     "text": [
      "CSV file created for INFY\n",
      "CSV file created for WIPRO\n",
      "CSV file created for TCS\n",
      "CSV file created for HCLTECH\n"
     ]
    }
   ],
   "source": [
    "for i in range(len(tickers)):\n",
    "    data = pd.DataFrame()\n",
    "    for j in range(5, 0, -1):\n",
    "        url = \"https://www.moneycontrol.com/financials/w/balance-sheetVI/\" + urls[i] + \"/\" + str(j)\n",
    "        # print(url)\n",
    "        try:\n",
    "            df = pd.read_html(url)[0]\n",
    "            df = df.iloc[:, :-1]\n",
    "            df.columns = df.iloc[0]\n",
    "            df = df.drop(0)\n",
    "            df = df.reset_index(drop=True)\n",
    "            df = df.drop(0)\n",
    "            df.columns.values[0] = None\n",
    "            df.set_index(df.columns[0], inplace=True)\n",
    "            df = df.iloc[:, ::-1]\n",
    "            data = pd.concat([data, df], axis=1)\n",
    "        except Exception as e:\n",
    "            print(f\"Error processing data for {tickers[i]} at URL {url}: {e}\")\n",
    "    \n",
    "    if not data.empty:\n",
    "        data = data.T\n",
    "        path = \"../datasets/balance-sheet/\" + tickers[i] + \"-balance-sheet.csv\"\n",
    "        data.to_csv(path)\n",
    "        print(f\"CSV file created for {tickers[i]}\")\n",
    "    else:\n",
    "        print(f\"No data available for {tickers[i]}\")\n"
   ]
  },
  {
   "cell_type": "code",
   "execution_count": null,
   "id": "e04e37eb-0678-4e8a-b005-a299521ad7f6",
   "metadata": {},
   "outputs": [],
   "source": []
  }
 ],
 "metadata": {
  "kernelspec": {
   "display_name": "Python 3 (ipykernel)",
   "language": "python",
   "name": "python3"
  },
  "language_info": {
   "codemirror_mode": {
    "name": "ipython",
    "version": 3
   },
   "file_extension": ".py",
   "mimetype": "text/x-python",
   "name": "python",
   "nbconvert_exporter": "python",
   "pygments_lexer": "ipython3",
   "version": "3.8.10"
  }
 },
 "nbformat": 4,
 "nbformat_minor": 5
}
